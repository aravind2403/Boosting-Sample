{
  "nbformat": 4,
  "nbformat_minor": 0,
  "metadata": {
    "colab": {
      "name": "Gradient Boosting Sample",
      "version": "0.3.2",
      "views": {},
      "default_view": {},
      "provenance": []
    },
    "kernelspec": {
      "name": "python3",
      "display_name": "Python 3"
    }
  },
  "cells": [
    {
      "metadata": {
        "id": "Nh7i87HA6MZu",
        "colab_type": "text"
      },
      "cell_type": "markdown",
      "source": [
        "Boosting algorithms play a crucial role in dealing with bias variance trade-off.\n",
        "\n",
        "The underlying engine used for boosting algorithms can be anything. For instance, AdaBoost is a boosting done on Decision stump. There are many other boosting algorithms which use other types of engine such as:\n",
        "\n",
        "1. GentleBoost\n",
        "\n",
        "2. Gradient Boosting (Always my first choice for any Kaggle problem)\n",
        "\n",
        "3.  LPBoost\n",
        "\n",
        "4. BrownBoost\n",
        "\n",
        "\n",
        "Adaboost\n",
        "\n",
        "-----Classifier Boosting----\n",
        "\n",
        "1) Make the first decision stump \n",
        "\n",
        "2) Additional weight to mis-classified\n",
        "\n",
        "3) Repeat all steps and combine them to get final classifier\n",
        "\n",
        "--------Regression boosting----------\n",
        "\n",
        "Gradient boosting algos \n",
        "\n",
        "Step 1 : Assume mean is the prediction of all variables.\n",
        "\n",
        "Step 2 : Calculate errors of each observation from the mean (latest prediction).\n",
        "\n",
        "Step 3 : Find the variable that can split the errors perfectly and find the value for the split. This is assumed to be the latest prediction.\n",
        "\n",
        "Step 4 : Calculate errors of each observation from the mean of both the sides of split (latest prediction).\n",
        "\n",
        "Step 5 : Repeat the step 3 and 4 till the objective function maximizes/minimizes.\n",
        "\n",
        "Step 6 : Take a weighted mean of all the classifiers to come up with the final model.\n"
      ]
    },
    {
      "metadata": {
        "id": "Jj6lisZx9C7H",
        "colab_type": "text"
      },
      "cell_type": "markdown",
      "source": [
        "ADABOOST tuning parameters\n",
        "\n",
        "both regression and classification \n",
        "\n",
        "\n",
        "**n_estimators:** It controls the number of weak learners.\n",
        "\n",
        "**learning_rate**:Controls the contribution of weak learners in the final combination. There is a trade-off between learning_rate and n_estimators.\n",
        "\n",
        "**base_estimators:** It helps to specify different ML algorithm.\n",
        "\n",
        "\n",
        "**Gradient boosting tuning parameters**\n",
        "\n",
        "**n_estimators**: It controls the number of weak learners.\n",
        "\n",
        "**learning_rate**:Controls the contribution of weak learners in the final combination. There is a trade-off between learning_rate and n_estimators.\n",
        "\n",
        "**max_depth**: maximum depth of the individual regression estimators. The maximum depth limits the number of nodes in the tree. Tune this parameter for best performance; the best value depends on the interaction of the input variables.\n",
        "\n",
        "Has three parameters :\n",
        "\n",
        "**1.Tree - specific\n",
        "\n",
        "**min_samples_split**\n",
        "Defines the minimum number of samples (or observations) which are required in a node to be considered for splitting.\n",
        "Used to control over-fitting. Higher values prevent a model from learning relations which might be highly specific to the particular sample selected for a tree.\n",
        "Too high values can lead to under-fitting hence, it should be tuned using CV.\n",
        "\n",
        "**min_samples_leaf**\n",
        "Defines the minimum samples (or observations) required in a terminal node or leaf.\n",
        "Used to control over-fitting similar to min_samples_split.\n",
        "Generally lower values should be chosen for imbalanced class problems because the regions in which the minority class will be in majority will be very small.\n",
        "\n",
        "**min_weight_fraction_leaf**\n",
        "Similar to min_samples_leaf but defined as a fraction of the total number of observations instead of an integer.\n",
        "Only one of #2 and #3 should be defined.\n",
        "\n",
        "**max_depth**\n",
        "The maximum depth of a tree.\n",
        "Used to control over-fitting as higher depth will allow model to learn relations very specific to a particular sample.\n",
        "Should be tuned using CV.\n",
        "\n",
        "**max_leaf_nodes**\n",
        "The maximum number of terminal nodes or leaves in a tree.\n",
        "Can be defined in place of max_depth. Since binary trees are created, a depth of ‘n’ would produce a maximum of 2^n leaves.\n",
        "If this is defined, GBM will ignore max_depth.\n",
        "\n",
        "**max_features**\n",
        "The number of features to consider while searching for a best split. These will be randomly selected.\n",
        "As a thumb-rule, square root of the total number of features works great but we should check upto 30-40% of the total number of features.\n",
        "Higher values can lead to over-fitting but depends on case to case.\n",
        "\n",
        "2**.**Boosting parameters**\n",
        "\n",
        "**learning_rate**\n",
        "This determines the impact of each tree on the final outcome (step 2.4). GBM works by starting with an initial estimate which is updated using the output of each tree. The learning parameter controls the magnitude of this change in the estimates.\n",
        "Lower values are generally preferred as they make the model robust to the specific characteristics of tree and thus allowing it to generalize well.\n",
        "Lower values would require higher number of trees to model all the relations and will be computationally expensive.\n",
        "\n",
        "**n_estimators**\n",
        "The number of sequential trees to be modeled (step 2)\n",
        "Though GBM is fairly robust at higher number of trees but it can still overfit at a point. Hence, this should be tuned using CV for a particular learning rate.\n",
        "\n",
        "**subsample**\n",
        "The fraction of observations to be selected for each tree. Selection is done by random sampling.\n",
        "Values slightly less than 1 make the model robust by reducing the variance.\n",
        "Typical values ~0.8 generally work fine but can be fine-tuned further.\n",
        "\n",
        "3.**misc parameters**\n",
        "\n",
        "\n",
        "**loss**\n",
        "It refers to the loss function to be minimized in each split.\n",
        "It can have various values for classification and regression case. Generally the default values work fine. Other values should be chosen only if you understand their impact on the model.\n",
        "\n",
        "**init**\n",
        "This affects initialization of the output.\n",
        "This can be used if we have made another model whose outcome is to be used as the initial estimates for GBM.\n",
        "\n",
        "**random_state**\n",
        "The random number seed so that same random numbers are generated every time.\n",
        "This is important for parameter tuning. If we don’t fix the random number, then we’ll have different outcomes for subsequent runs on the same parameters and it becomes difficult to compare models.\n",
        "It can potentially result in overfitting to a particular random sample selected. We can try running models for different random samples, which is computationally expensive and generally not used.\n",
        "\n",
        "**verbose**\n",
        "The type of output to be printed when the model fits. The different values can be:\n",
        "0: no output generated (default)\n",
        "1: output generated for trees in certain intervals\n",
        ">1: output generated for all trees\n",
        "\n",
        "**warm_start**\n",
        "This parameter has an interesting application and can help a lot if used judicially.\n",
        "Using this, we can fit additional trees on previous fits of a model. It can save a lot of time and you should explore this option for advanced applications\n",
        "\n",
        "**presort** \n",
        " Select whether to presort data for faster splits.\n",
        "It makes the selection automatically by default but it can be changed if needed.\n"
      ]
    },
    {
      "metadata": {
        "id": "NpxrKB6O4hV2",
        "colab_type": "code",
        "colab": {
          "autoexec": {
            "startup": false,
            "wait_interval": 0
          },
          "resources": {
            "http://localhost:8080/nbextensions/google.colab/files.js": {
              "data": "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",
              "ok": true,
              "headers": [
                [
                  "content-type",
                  "application/javascript"
                ]
              ],
              "status": 200,
              "status_text": ""
            }
          },
          "base_uri": "https://localhost:8080/",
          "height": 37
        },
        "outputId": "7e72d73e-21da-4c59-be5d-969c601be7e0",
        "executionInfo": {
          "status": "ok",
          "timestamp": 1528679975941,
          "user_tz": 420,
          "elapsed": 32900,
          "user": {
            "displayName": "Aravind Shanmugam",
            "photoUrl": "//lh6.googleusercontent.com/-_XjpUosSEHA/AAAAAAAAAAI/AAAAAAAABA0/uAWQVyYb8sg/s50-c-k-no/photo.jpg",
            "userId": "112465109968057340331"
          }
        }
      },
      "cell_type": "code",
      "source": [
        "from google.colab import files\n",
        "uploaded = files.upload()"
      ],
      "execution_count": 6,
      "outputs": [
        {
          "output_type": "display_data",
          "data": {
            "text/html": [
              "\n",
              "     <input type=\"file\" id=\"files-eba291c3-8b20-4ad6-827f-b14449846ad2\" name=\"files[]\" multiple disabled />\n",
              "     <output id=\"result-eba291c3-8b20-4ad6-827f-b14449846ad2\">\n",
              "      Upload widget is only available when the cell has been executed in the\n",
              "      current browser session. Please rerun this cell to enable.\n",
              "      </output>\n",
              "      <script src=\"/nbextensions/google.colab/files.js\"></script> "
            ],
            "text/plain": [
              "<IPython.core.display.HTML object>"
            ]
          },
          "metadata": {
            "tags": []
          }
        }
      ]
    },
    {
      "metadata": {
        "id": "XjCKWLXW4qCU",
        "colab_type": "code",
        "colab": {
          "autoexec": {
            "startup": false,
            "wait_interval": 0
          }
        }
      },
      "cell_type": "code",
      "source": [
        "import pandas as pd\n",
        "import numpy as np"
      ],
      "execution_count": 0,
      "outputs": []
    },
    {
      "metadata": {
        "id": "atDWoXdgBB2g",
        "colab_type": "code",
        "colab": {
          "autoexec": {
            "startup": false,
            "wait_interval": 0
          }
        }
      },
      "cell_type": "code",
      "source": [
        "train = pd.read_csv('train.csv', encoding=\"ISO-8859-1\")\n",
        "test = pd.read_csv('test.csv' , encoding=\"ISO-8859-1\")"
      ],
      "execution_count": 0,
      "outputs": []
    },
    {
      "metadata": {
        "id": "mfeGL1KaAzkJ",
        "colab_type": "code",
        "colab": {
          "autoexec": {
            "startup": false,
            "wait_interval": 0
          },
          "base_uri": "https://localhost:8080/",
          "height": 35
        },
        "outputId": "c3f51a17-74d4-47d6-ff17-573279035040",
        "executionInfo": {
          "status": "ok",
          "timestamp": 1528687484868,
          "user_tz": 420,
          "elapsed": 507,
          "user": {
            "displayName": "Aravind Shanmugam",
            "photoUrl": "//lh6.googleusercontent.com/-_XjpUosSEHA/AAAAAAAAAAI/AAAAAAAABA0/uAWQVyYb8sg/s50-c-k-no/photo.jpg",
            "userId": "112465109968057340331"
          }
        }
      },
      "cell_type": "code",
      "source": [
        "train.shape, test.shape"
      ],
      "execution_count": 100,
      "outputs": [
        {
          "output_type": "execute_result",
          "data": {
            "text/plain": [
              "((87020, 26), (37717, 24))"
            ]
          },
          "metadata": {
            "tags": []
          },
          "execution_count": 100
        }
      ]
    },
    {
      "metadata": {
        "id": "vgqPzeswA2ko",
        "colab_type": "code",
        "colab": {
          "autoexec": {
            "startup": false,
            "wait_interval": 0
          },
          "base_uri": "https://localhost:8080/",
          "height": 508
        },
        "outputId": "2cd59ed6-cbfb-458a-cdf5-09f3c7ab8ee8",
        "executionInfo": {
          "status": "ok",
          "timestamp": 1528687486386,
          "user_tz": 420,
          "elapsed": 485,
          "user": {
            "displayName": "Aravind Shanmugam",
            "photoUrl": "//lh6.googleusercontent.com/-_XjpUosSEHA/AAAAAAAAAAI/AAAAAAAABA0/uAWQVyYb8sg/s50-c-k-no/photo.jpg",
            "userId": "112465109968057340331"
          }
        }
      },
      "cell_type": "code",
      "source": [
        "train.dtypes"
      ],
      "execution_count": 101,
      "outputs": [
        {
          "output_type": "execute_result",
          "data": {
            "text/plain": [
              "ID                        object\n",
              "Gender                    object\n",
              "City                      object\n",
              "Monthly_Income             int64\n",
              "DOB                       object\n",
              "Lead_Creation_Date        object\n",
              "Loan_Amount_Applied      float64\n",
              "Loan_Tenure_Applied      float64\n",
              "Existing_EMI             float64\n",
              "Employer_Name             object\n",
              "Salary_Account            object\n",
              "Mobile_Verified           object\n",
              "Var5                       int64\n",
              "Var1                      object\n",
              "Loan_Amount_Submitted    float64\n",
              "Loan_Tenure_Submitted    float64\n",
              "Interest_Rate            float64\n",
              "Processing_Fee           float64\n",
              "EMI_Loan_Submitted       float64\n",
              "Filled_Form               object\n",
              "Device_Type               object\n",
              "Var2                      object\n",
              "Source                    object\n",
              "Var4                       int64\n",
              "LoggedIn                   int64\n",
              "Disbursed                  int64\n",
              "dtype: object"
            ]
          },
          "metadata": {
            "tags": []
          },
          "execution_count": 101
        }
      ]
    },
    {
      "metadata": {
        "id": "G53K-bxOA4Fk",
        "colab_type": "code",
        "colab": {
          "autoexec": {
            "startup": false,
            "wait_interval": 0
          },
          "base_uri": "https://localhost:8080/",
          "height": 35
        },
        "outputId": "27c17be8-0784-4aa1-da1a-a896a8b29afc",
        "executionInfo": {
          "status": "ok",
          "timestamp": 1528687487687,
          "user_tz": 420,
          "elapsed": 477,
          "user": {
            "displayName": "Aravind Shanmugam",
            "photoUrl": "//lh6.googleusercontent.com/-_XjpUosSEHA/AAAAAAAAAAI/AAAAAAAABA0/uAWQVyYb8sg/s50-c-k-no/photo.jpg",
            "userId": "112465109968057340331"
          }
        }
      },
      "cell_type": "code",
      "source": [
        "train['source']= 'train'\n",
        "test['source'] = 'test'\n",
        "data=pd.concat([train, test],ignore_index=True)\n",
        "data.shape"
      ],
      "execution_count": 102,
      "outputs": [
        {
          "output_type": "execute_result",
          "data": {
            "text/plain": [
              "(124737, 27)"
            ]
          },
          "metadata": {
            "tags": []
          },
          "execution_count": 102
        }
      ]
    },
    {
      "metadata": {
        "id": "sWxndWdbBKT8",
        "colab_type": "code",
        "colab": {
          "autoexec": {
            "startup": false,
            "wait_interval": 0
          },
          "base_uri": "https://localhost:8080/",
          "height": 526
        },
        "outputId": "a28cdb84-f51d-4487-f0ae-9ed51b4eca0e",
        "executionInfo": {
          "status": "ok",
          "timestamp": 1528687489191,
          "user_tz": 420,
          "elapsed": 719,
          "user": {
            "displayName": "Aravind Shanmugam",
            "photoUrl": "//lh6.googleusercontent.com/-_XjpUosSEHA/AAAAAAAAAAI/AAAAAAAABA0/uAWQVyYb8sg/s50-c-k-no/photo.jpg",
            "userId": "112465109968057340331"
          }
        }
      },
      "cell_type": "code",
      "source": [
        "data.apply(lambda x: sum(x.isnull()))"
      ],
      "execution_count": 103,
      "outputs": [
        {
          "output_type": "execute_result",
          "data": {
            "text/plain": [
              "City                      1401\n",
              "DOB                          0\n",
              "Device_Type                  0\n",
              "Disbursed                37717\n",
              "EMI_Loan_Submitted       84901\n",
              "Employer_Name              113\n",
              "Existing_EMI               111\n",
              "Filled_Form                  0\n",
              "Gender                       0\n",
              "ID                           0\n",
              "Interest_Rate            84901\n",
              "Lead_Creation_Date           0\n",
              "Loan_Amount_Applied        111\n",
              "Loan_Amount_Submitted    49535\n",
              "Loan_Tenure_Applied        111\n",
              "Loan_Tenure_Submitted    49535\n",
              "LoggedIn                 37717\n",
              "Mobile_Verified              0\n",
              "Monthly_Income               0\n",
              "Processing_Fee           85346\n",
              "Salary_Account           16801\n",
              "Source                       0\n",
              "Var1                         0\n",
              "Var2                         0\n",
              "Var4                         0\n",
              "Var5                         0\n",
              "source                       0\n",
              "dtype: int64"
            ]
          },
          "metadata": {
            "tags": []
          },
          "execution_count": 103
        }
      ]
    },
    {
      "metadata": {
        "id": "By9pYj1RBOT7",
        "colab_type": "code",
        "colab": {
          "autoexec": {
            "startup": false,
            "wait_interval": 0
          },
          "base_uri": "https://localhost:8080/",
          "height": 2745
        },
        "outputId": "afd3209c-05f7-4c32-f9e3-19afe4507fe6",
        "executionInfo": {
          "status": "ok",
          "timestamp": 1528687490982,
          "user_tz": 420,
          "elapsed": 520,
          "user": {
            "displayName": "Aravind Shanmugam",
            "photoUrl": "//lh6.googleusercontent.com/-_XjpUosSEHA/AAAAAAAAAAI/AAAAAAAABA0/uAWQVyYb8sg/s50-c-k-no/photo.jpg",
            "userId": "112465109968057340331"
          }
        }
      },
      "cell_type": "code",
      "source": [
        "var = ['Gender','Salary_Account','Mobile_Verified','Var1','Filled_Form','Device_Type','Var2','Source']\n",
        "for v in var:\n",
        "    print ('\\nFrequency count for variable %s'%v)\n",
        "    print (data[v].value_counts())"
      ],
      "execution_count": 104,
      "outputs": [
        {
          "output_type": "stream",
          "text": [
            "\n",
            "Frequency count for variable Gender\n",
            "Male      71398\n",
            "Female    53339\n",
            "Name: Gender, dtype: int64\n",
            "\n",
            "Frequency count for variable Salary_Account\n",
            "HDFC Bank                                          25180\n",
            "ICICI Bank                                         19547\n",
            "State Bank of India                                17110\n",
            "Axis Bank                                          12590\n",
            "Citibank                                            3398\n",
            "Kotak Bank                                          2955\n",
            "IDBI Bank                                           2213\n",
            "Punjab National Bank                                1747\n",
            "Bank of India                                       1713\n",
            "Bank of Baroda                                      1675\n",
            "Standard Chartered Bank                             1434\n",
            "Canara Bank                                         1385\n",
            "Union Bank of India                                 1330\n",
            "Yes Bank                                            1120\n",
            "ING Vysya                                            996\n",
            "Corporation bank                                     948\n",
            "Indian Overseas Bank                                 901\n",
            "State Bank of Hyderabad                              854\n",
            "Indian Bank                                          773\n",
            "Oriental Bank of Commerce                            761\n",
            "IndusInd Bank                                        711\n",
            "Andhra Bank                                          706\n",
            "Central Bank of India                                648\n",
            "Syndicate Bank                                       614\n",
            "Bank of Maharasthra                                  576\n",
            "HSBC                                                 474\n",
            "State Bank of Bikaner & Jaipur                       448\n",
            "Karur Vysya Bank                                     435\n",
            "State Bank of Mysore                                 385\n",
            "Federal Bank                                         377\n",
            "Vijaya Bank                                          354\n",
            "Allahabad Bank                                       345\n",
            "UCO Bank                                             344\n",
            "State Bank of Travancore                             333\n",
            "Karnataka Bank                                       279\n",
            "United Bank of India                                 276\n",
            "Dena Bank                                            268\n",
            "Saraswat Bank                                        265\n",
            "State Bank of Patiala                                263\n",
            "South Indian Bank                                    223\n",
            "Deutsche Bank                                        176\n",
            "Abhyuday Co-op Bank Ltd                              161\n",
            "The Ratnakar Bank Ltd                                113\n",
            "Tamil Nadu Mercantile Bank                           103\n",
            "Punjab & Sind bank                                    84\n",
            "J&K Bank                                              78\n",
            "Lakshmi Vilas bank                                    69\n",
            "Dhanalakshmi Bank Ltd                                 66\n",
            "State Bank of Indore                                  32\n",
            "Catholic Syrian Bank                                  27\n",
            "India Bulls                                           21\n",
            "B N P Paribas                                         15\n",
            "Firstrand Bank Limited                                11\n",
            "GIC Housing Finance Ltd                               10\n",
            "Bank of Rajasthan                                      8\n",
            "Kerala Gramin Bank                                     4\n",
            "Industrial And Commercial Bank Of China Limited        3\n",
            "Ahmedabad Mercantile Cooperative Bank                  1\n",
            "Name: Salary_Account, dtype: int64\n",
            "\n",
            "Frequency count for variable Mobile_Verified\n",
            "Y    80928\n",
            "N    43809\n",
            "Name: Mobile_Verified, dtype: int64\n",
            "\n",
            "Frequency count for variable Var1\n",
            "HBXX    84901\n",
            "HBXC    12952\n",
            "HBXB     6502\n",
            "HAXA     4214\n",
            "HBXA     3042\n",
            "HAXB     2879\n",
            "HBXD     2818\n",
            "HAXC     2171\n",
            "HBXH     1387\n",
            "HCXF      990\n",
            "HAYT      710\n",
            "HAVC      570\n",
            "HAXM      386\n",
            "HCXD      348\n",
            "HCYS      318\n",
            "HVYS      252\n",
            "HAZD      161\n",
            "HCXG      114\n",
            "HAXF       22\n",
            "Name: Var1, dtype: int64\n",
            "\n",
            "Frequency count for variable Filled_Form\n",
            "N    96740\n",
            "Y    27997\n",
            "Name: Filled_Form, dtype: int64\n",
            "\n",
            "Frequency count for variable Device_Type\n",
            "Web-browser    92105\n",
            "Mobile         32632\n",
            "Name: Device_Type, dtype: int64\n",
            "\n",
            "Frequency count for variable Var2\n",
            "B    53481\n",
            "G    47338\n",
            "C    20366\n",
            "E     1855\n",
            "D      918\n",
            "F      770\n",
            "A        9\n",
            "Name: Var2, dtype: int64\n",
            "\n",
            "Frequency count for variable Source\n",
            "S122    55249\n",
            "S133    42900\n",
            "S159     7999\n",
            "S143     6140\n",
            "S127     2804\n",
            "S137     2450\n",
            "S134     1900\n",
            "S161     1109\n",
            "S151     1018\n",
            "S157      929\n",
            "S153      705\n",
            "S144      447\n",
            "S156      432\n",
            "S158      294\n",
            "S123      112\n",
            "S141       83\n",
            "S162       60\n",
            "S124       43\n",
            "S150       19\n",
            "S160       11\n",
            "S138        5\n",
            "S136        5\n",
            "S155        5\n",
            "S139        4\n",
            "S129        4\n",
            "S135        2\n",
            "S125        1\n",
            "S140        1\n",
            "S126        1\n",
            "S142        1\n",
            "S130        1\n",
            "S154        1\n",
            "S131        1\n",
            "S132        1\n",
            "Name: Source, dtype: int64\n"
          ],
          "name": "stdout"
        }
      ]
    },
    {
      "metadata": {
        "id": "7uvWiTX-BTdV",
        "colab_type": "code",
        "colab": {
          "autoexec": {
            "startup": false,
            "wait_interval": 0
          }
        }
      },
      "cell_type": "code",
      "source": [
        "len(data['City'].unique())\n",
        "#drop city because too many unique\n",
        "data.drop('City',axis=1,inplace=True)"
      ],
      "execution_count": 0,
      "outputs": []
    },
    {
      "metadata": {
        "id": "RQE1vj7_BU_K",
        "colab_type": "code",
        "colab": {
          "autoexec": {
            "startup": false,
            "wait_interval": 0
          },
          "base_uri": "https://localhost:8080/",
          "height": 126
        },
        "outputId": "05683858-b704-46c4-8ec9-0a89be8ed03c",
        "executionInfo": {
          "status": "ok",
          "timestamp": 1528687493547,
          "user_tz": 420,
          "elapsed": 504,
          "user": {
            "displayName": "Aravind Shanmugam",
            "photoUrl": "//lh6.googleusercontent.com/-_XjpUosSEHA/AAAAAAAAAAI/AAAAAAAABA0/uAWQVyYb8sg/s50-c-k-no/photo.jpg",
            "userId": "112465109968057340331"
          }
        }
      },
      "cell_type": "code",
      "source": [
        "data['DOB'].head()"
      ],
      "execution_count": 106,
      "outputs": [
        {
          "output_type": "execute_result",
          "data": {
            "text/plain": [
              "0    23-May-78\n",
              "1    07-Oct-85\n",
              "2    10-Oct-81\n",
              "3    30-Nov-87\n",
              "4    17-Feb-84\n",
              "Name: DOB, dtype: object"
            ]
          },
          "metadata": {
            "tags": []
          },
          "execution_count": 106
        }
      ]
    },
    {
      "metadata": {
        "id": "md-VFTZGBYJv",
        "colab_type": "code",
        "colab": {
          "autoexec": {
            "startup": false,
            "wait_interval": 0
          },
          "base_uri": "https://localhost:8080/",
          "height": 126
        },
        "outputId": "8b80c1d7-2a37-4f5e-ba03-c17374e3eeed",
        "executionInfo": {
          "status": "ok",
          "timestamp": 1528687494677,
          "user_tz": 420,
          "elapsed": 415,
          "user": {
            "displayName": "Aravind Shanmugam",
            "photoUrl": "//lh6.googleusercontent.com/-_XjpUosSEHA/AAAAAAAAAAI/AAAAAAAABA0/uAWQVyYb8sg/s50-c-k-no/photo.jpg",
            "userId": "112465109968057340331"
          }
        }
      },
      "cell_type": "code",
      "source": [
        "#Create age variable:#Create  \n",
        "data['Age'] = data['DOB'].apply(lambda x: 115 - int(x[-2:]))\n",
        "data['Age'].head()"
      ],
      "execution_count": 107,
      "outputs": [
        {
          "output_type": "execute_result",
          "data": {
            "text/plain": [
              "0    37\n",
              "1    30\n",
              "2    34\n",
              "3    28\n",
              "4    31\n",
              "Name: Age, dtype: int64"
            ]
          },
          "metadata": {
            "tags": []
          },
          "execution_count": 107
        }
      ]
    },
    {
      "metadata": {
        "id": "z5WGdoxWC_8B",
        "colab_type": "code",
        "colab": {
          "autoexec": {
            "startup": false,
            "wait_interval": 0
          }
        }
      },
      "cell_type": "code",
      "source": [
        "\n",
        "#drop DOB:#drop DO \n",
        "data.drop('DOB',axis=1,inplace=True)"
      ],
      "execution_count": 0,
      "outputs": []
    },
    {
      "metadata": {
        "id": "2K8q50W7D6HS",
        "colab_type": "code",
        "colab": {
          "autoexec": {
            "startup": false,
            "wait_interval": 0
          },
          "base_uri": "https://localhost:8080/",
          "height": 285
        },
        "outputId": "b93d13a8-63d2-4b6e-ff5e-a80dfcc0a04f",
        "executionInfo": {
          "status": "ok",
          "timestamp": 1528687497276,
          "user_tz": 420,
          "elapsed": 563,
          "user": {
            "displayName": "Aravind Shanmugam",
            "photoUrl": "//lh6.googleusercontent.com/-_XjpUosSEHA/AAAAAAAAAAI/AAAAAAAABA0/uAWQVyYb8sg/s50-c-k-no/photo.jpg",
            "userId": "112465109968057340331"
          }
        }
      },
      "cell_type": "code",
      "source": [
        "data.boxplot(column=['EMI_Loan_Submitted'],return_type='axes')\n",
        "#Majority values missing so I'll create a new variable stating whether this is missing or note:\n",
        "data['EMI_Loan_Submitted_Missing'] = data['EMI_Loan_Submitted'].apply(lambda x: 1 if pd.isnull(x) else 0)\n",
        "data[['EMI_Loan_Submitted','EMI_Loan_Submitted_Missing']].head(10)\n",
        "#drop original vaiables:\n",
        "data.drop('EMI_Loan_Submitted',axis=1,inplace=True)"
      ],
      "execution_count": 109,
      "outputs": [
        {
          "output_type": "display_data",
          "data": {
            "image/png": "[encoded data removed]",
            "text/plain": [
              "<matplotlib.figure.Figure at 0x7fe1ec7b65c0>"
            ]
          },
          "metadata": {
            "tags": []
          }
        }
      ]
    },
    {
      "metadata": {
        "id": "dWBFQFuyEAFg",
        "colab_type": "code",
        "colab": {
          "autoexec": {
            "startup": false,
            "wait_interval": 0
          }
        }
      },
      "cell_type": "code",
      "source": [
        "len(data['Employer_Name'].value_counts())\n",
        "data.drop('Employer_Name',axis=1,inplace=True)"
      ],
      "execution_count": 0,
      "outputs": []
    },
    {
      "metadata": {
        "id": "79TVomEBELCz",
        "colab_type": "code",
        "colab": {
          "autoexec": {
            "startup": false,
            "wait_interval": 0
          },
          "base_uri": "https://localhost:8080/",
          "height": 276
        },
        "outputId": "14e7170a-a1d4-461b-fed2-333d5decd762",
        "executionInfo": {
          "status": "ok",
          "timestamp": 1528687500373,
          "user_tz": 420,
          "elapsed": 527,
          "user": {
            "displayName": "Aravind Shanmugam",
            "photoUrl": "//lh6.googleusercontent.com/-_XjpUosSEHA/AAAAAAAAAAI/AAAAAAAABA0/uAWQVyYb8sg/s50-c-k-no/photo.jpg",
            "userId": "112465109968057340331"
          }
        }
      },
      "cell_type": "code",
      "source": [
        "data.boxplot(column='Existing_EMI',return_type='axes')\n",
        "data['Existing_EMI'].fillna(0, inplace=True)"
      ],
      "execution_count": 111,
      "outputs": [
        {
          "output_type": "display_data",
          "data": {
            "image/png": "[encoded data removed]",
            "text/plain": [
              "<matplotlib.figure.Figure at 0x7fe1f3ce79b0>"
            ]
          },
          "metadata": {
            "tags": []
          }
        }
      ]
    },
    {
      "metadata": {
        "id": "8fe386iyERra",
        "colab_type": "code",
        "colab": {
          "autoexec": {
            "startup": false,
            "wait_interval": 0
          },
          "base_uri": "https://localhost:8080/",
          "height": 217
        },
        "outputId": "e6ed865e-f656-4c66-d275-7a580ce79cef",
        "executionInfo": {
          "status": "ok",
          "timestamp": 1528687502564,
          "user_tz": 420,
          "elapsed": 850,
          "user": {
            "displayName": "Aravind Shanmugam",
            "photoUrl": "//lh6.googleusercontent.com/-_XjpUosSEHA/AAAAAAAAAAI/AAAAAAAABA0/uAWQVyYb8sg/s50-c-k-no/photo.jpg",
            "userId": "112465109968057340331"
          }
        }
      },
      "cell_type": "code",
      "source": [
        "#Majority values missing so I'll create a new variable stating whether this is missing or note:\n",
        "data['Interest_Rate_Missing'] = data['Interest_Rate'].apply(lambda x: 1 if pd.isnull(x) else 0)\n",
        "print (data[['Interest_Rate','Interest_Rate_Missing']].head(10))\n",
        "data.drop('Interest_Rate',axis=1,inplace=True)\n",
        "#Drop this variable because doesn't appear to affect much intuitively\n",
        "data.drop('Lead_Creation_Date',axis=1,inplace=True)\n",
        "data['Loan_Amount_Applied'].fillna(data['Loan_Amount_Applied'].median(),inplace=True)\n",
        "data['Loan_Tenure_Applied'].fillna(data['Loan_Tenure_Applied'].median(),inplace=True)\n",
        "#High proportion missing so create a new var whether present or not\n",
        "data['Loan_Amount_Submitted_Missing'] = data['Loan_Amount_Submitted'].apply(lambda x: 1 if pd.isnull(x) else 0)\n",
        "data['Loan_Tenure_Submitted_Missing'] = data['Loan_Tenure_Submitted'].apply(lambda x: 1 if pd.isnull(x) else 0)\n",
        "data.drop(['Loan_Amount_Submitted','Loan_Tenure_Submitted'],axis=1,inplace=True)\n",
        "data.drop('LoggedIn',axis=1,inplace=True)\n",
        "data.drop('Salary_Account',axis=1,inplace=True)\n",
        "#High proportion missing so create a new var whether present or not\n",
        "data['Processing_Fee_Missing'] = data['Processing_Fee'].apply(lambda x: 1 if pd.isnull(x) else 0)\n",
        "#drop old\n",
        "data.drop('Processing_Fee',axis=1,inplace=True)"
      ],
      "execution_count": 112,
      "outputs": [
        {
          "output_type": "stream",
          "text": [
            "   Interest_Rate  Interest_Rate_Missing\n",
            "0            NaN                      1\n",
            "1          13.25                      0\n",
            "2            NaN                      1\n",
            "3            NaN                      1\n",
            "4            NaN                      1\n",
            "5          13.99                      0\n",
            "6            NaN                      1\n",
            "7            NaN                      1\n",
            "8          14.85                      0\n",
            "9          18.25                      0\n"
          ],
          "name": "stdout"
        }
      ]
    },
    {
      "metadata": {
        "id": "xz-H0weAG7Yv",
        "colab_type": "code",
        "colab": {
          "autoexec": {
            "startup": false,
            "wait_interval": 0
          },
          "base_uri": "https://localhost:8080/",
          "height": 90
        },
        "outputId": "27f25713-5067-4ff7-ef9c-2ffbde55bfaa",
        "executionInfo": {
          "status": "ok",
          "timestamp": 1528687503913,
          "user_tz": 420,
          "elapsed": 425,
          "user": {
            "displayName": "Aravind Shanmugam",
            "photoUrl": "//lh6.googleusercontent.com/-_XjpUosSEHA/AAAAAAAAAAI/AAAAAAAABA0/uAWQVyYb8sg/s50-c-k-no/photo.jpg",
            "userId": "112465109968057340331"
          }
        }
      },
      "cell_type": "code",
      "source": [
        "data['Source'] = data['Source'].apply(lambda x: 'others' if x not in ['S122','S133'] else x)\n",
        "data['Source'].value_counts()"
      ],
      "execution_count": 113,
      "outputs": [
        {
          "output_type": "execute_result",
          "data": {
            "text/plain": [
              "S122      55249\n",
              "S133      42900\n",
              "others    26588\n",
              "Name: Source, dtype: int64"
            ]
          },
          "metadata": {
            "tags": []
          },
          "execution_count": 113
        }
      ]
    },
    {
      "metadata": {
        "id": "NQEz5APnHOH0",
        "colab_type": "code",
        "colab": {
          "autoexec": {
            "startup": false,
            "wait_interval": 0
          },
          "base_uri": "https://localhost:8080/",
          "height": 435
        },
        "outputId": "9dac08a1-6be2-4806-94cb-b69c93857574",
        "executionInfo": {
          "status": "ok",
          "timestamp": 1528687505353,
          "user_tz": 420,
          "elapsed": 499,
          "user": {
            "displayName": "Aravind Shanmugam",
            "photoUrl": "//lh6.googleusercontent.com/-_XjpUosSEHA/AAAAAAAAAAI/AAAAAAAABA0/uAWQVyYb8sg/s50-c-k-no/photo.jpg",
            "userId": "112465109968057340331"
          }
        }
      },
      "cell_type": "code",
      "source": [
        "data.apply(lambda x: sum(x.isnull()))"
      ],
      "execution_count": 114,
      "outputs": [
        {
          "output_type": "execute_result",
          "data": {
            "text/plain": [
              "Device_Type                          0\n",
              "Disbursed                        37717\n",
              "Existing_EMI                         0\n",
              "Filled_Form                          0\n",
              "Gender                               0\n",
              "ID                                   0\n",
              "Loan_Amount_Applied                  0\n",
              "Loan_Tenure_Applied                  0\n",
              "Mobile_Verified                      0\n",
              "Monthly_Income                       0\n",
              "Source                               0\n",
              "Var1                                 0\n",
              "Var2                                 0\n",
              "Var4                                 0\n",
              "Var5                                 0\n",
              "source                               0\n",
              "Age                                  0\n",
              "EMI_Loan_Submitted_Missing           0\n",
              "Interest_Rate_Missing                0\n",
              "Loan_Amount_Submitted_Missing        0\n",
              "Loan_Tenure_Submitted_Missing        0\n",
              "Processing_Fee_Missing               0\n",
              "dtype: int64"
            ]
          },
          "metadata": {
            "tags": []
          },
          "execution_count": 114
        }
      ]
    },
    {
      "metadata": {
        "id": "-6kV7eDOHdlQ",
        "colab_type": "code",
        "colab": {
          "autoexec": {
            "startup": false,
            "wait_interval": 0
          }
        }
      },
      "cell_type": "code",
      "source": [
        "from sklearn.preprocessing import LabelEncoder\n",
        "le = LabelEncoder()\n",
        "var_to_encode = ['Device_Type','Filled_Form','Gender','Var1','Var2','Mobile_Verified','Source']\n",
        "for col in var_to_encode:\n",
        "    data[col] = le.fit_transform(data[col])"
      ],
      "execution_count": 0,
      "outputs": []
    },
    {
      "metadata": {
        "id": "wqueof10HnRA",
        "colab_type": "code",
        "colab": {
          "autoexec": {
            "startup": false,
            "wait_interval": 0
          },
          "base_uri": "https://localhost:8080/",
          "height": 254
        },
        "outputId": "d61a5843-f662-4f75-b0b4-1092dc665c8b",
        "executionInfo": {
          "status": "ok",
          "timestamp": 1528687509164,
          "user_tz": 420,
          "elapsed": 514,
          "user": {
            "displayName": "Aravind Shanmugam",
            "photoUrl": "//lh6.googleusercontent.com/-_XjpUosSEHA/AAAAAAAAAAI/AAAAAAAABA0/uAWQVyYb8sg/s50-c-k-no/photo.jpg",
            "userId": "112465109968057340331"
          }
        }
      },
      "cell_type": "code",
      "source": [
        "data = pd.get_dummies(data, columns=var_to_encode)\n",
        "data.columns"
      ],
      "execution_count": 116,
      "outputs": [
        {
          "output_type": "execute_result",
          "data": {
            "text/plain": [
              "Index(['Disbursed', 'Existing_EMI', 'ID', 'Loan_Amount_Applied',\n",
              "       'Loan_Tenure_Applied', 'Monthly_Income', 'Var4', 'Var5', 'source',\n",
              "       'Age', 'EMI_Loan_Submitted_Missing', 'Interest_Rate_Missing',\n",
              "       'Loan_Amount_Submitted_Missing', 'Loan_Tenure_Submitted_Missing',\n",
              "       'Processing_Fee_Missing', 'Device_Type_0', 'Device_Type_1',\n",
              "       'Filled_Form_0', 'Filled_Form_1', 'Gender_0', 'Gender_1', 'Var1_0',\n",
              "       'Var1_1', 'Var1_2', 'Var1_3', 'Var1_4', 'Var1_5', 'Var1_6', 'Var1_7',\n",
              "       'Var1_8', 'Var1_9', 'Var1_10', 'Var1_11', 'Var1_12', 'Var1_13',\n",
              "       'Var1_14', 'Var1_15', 'Var1_16', 'Var1_17', 'Var1_18', 'Var2_0',\n",
              "       'Var2_1', 'Var2_2', 'Var2_3', 'Var2_4', 'Var2_5', 'Var2_6',\n",
              "       'Mobile_Verified_0', 'Mobile_Verified_1', 'Source_0', 'Source_1',\n",
              "       'Source_2'],\n",
              "      dtype='object')"
            ]
          },
          "metadata": {
            "tags": []
          },
          "execution_count": 116
        }
      ]
    },
    {
      "metadata": {
        "id": "tYaJY2t4HpGU",
        "colab_type": "code",
        "colab": {
          "autoexec": {
            "startup": false,
            "wait_interval": 0
          }
        }
      },
      "cell_type": "code",
      "source": [
        "train = data.loc[data['source']=='train']\n",
        "test = data.loc[data['source']=='test']"
      ],
      "execution_count": 0,
      "outputs": []
    },
    {
      "metadata": {
        "id": "4HP8WQaNHuRO",
        "colab_type": "code",
        "colab": {
          "autoexec": {
            "startup": false,
            "wait_interval": 0
          },
          "base_uri": "https://localhost:8080/",
          "height": 219
        },
        "outputId": "f4872ba6-3e65-444d-c40c-3a169f2e4002",
        "executionInfo": {
          "status": "ok",
          "timestamp": 1528687512174,
          "user_tz": 420,
          "elapsed": 477,
          "user": {
            "displayName": "Aravind Shanmugam",
            "photoUrl": "//lh6.googleusercontent.com/-_XjpUosSEHA/AAAAAAAAAAI/AAAAAAAABA0/uAWQVyYb8sg/s50-c-k-no/photo.jpg",
            "userId": "112465109968057340331"
          }
        }
      },
      "cell_type": "code",
      "source": [
        "train.drop('source',axis=1,inplace=True)\n",
        "test.drop(['source','Disbursed'],axis=1,inplace=True)"
      ],
      "execution_count": 118,
      "outputs": [
        {
          "output_type": "stream",
          "text": [
            "/usr/local/lib/python3.6/dist-packages/ipykernel_launcher.py:1: SettingWithCopyWarning: \n",
            "A value is trying to be set on a copy of a slice from a DataFrame\n",
            "\n",
            "See the caveats in the documentation: http://pandas.pydata.org/pandas-docs/stable/indexing.html#indexing-view-versus-copy\n",
            "  \"\"\"Entry point for launching an IPython kernel.\n",
            "/usr/local/lib/python3.6/dist-packages/ipykernel_launcher.py:2: SettingWithCopyWarning: \n",
            "A value is trying to be set on a copy of a slice from a DataFrame\n",
            "\n",
            "See the caveats in the documentation: http://pandas.pydata.org/pandas-docs/stable/indexing.html#indexing-view-versus-copy\n",
            "  \n"
          ],
          "name": "stderr"
        }
      ]
    },
    {
      "metadata": {
        "id": "Q6fsJw8QHzhJ",
        "colab_type": "code",
        "colab": {
          "autoexec": {
            "startup": false,
            "wait_interval": 0
          }
        }
      },
      "cell_type": "code",
      "source": [
        "import pandas as pd\n",
        "import numpy as np\n",
        "from sklearn.ensemble import GradientBoostingClassifier\n",
        "from sklearn import cross_validation, metrics\n",
        "from sklearn.grid_search import GridSearchCV\n",
        "\n",
        "import matplotlib.pylab as plt\n",
        "%matplotlib inline\n",
        "from matplotlib.pylab import rcParams\n",
        "rcParams['figure.figsize'] = 12, 4"
      ],
      "execution_count": 0,
      "outputs": []
    },
    {
      "metadata": {
        "id": "qg_h534WJESY",
        "colab_type": "code",
        "colab": {
          "autoexec": {
            "startup": false,
            "wait_interval": 0
          }
        }
      },
      "cell_type": "code",
      "source": [
        "target='Disbursed'\n",
        "IDcol = 'ID'"
      ],
      "execution_count": 0,
      "outputs": []
    },
    {
      "metadata": {
        "id": "UuiSxlUMJYCi",
        "colab_type": "code",
        "colab": {
          "autoexec": {
            "startup": false,
            "wait_interval": 0
          },
          "base_uri": "https://localhost:8080/",
          "height": 72
        },
        "outputId": "d78b94d2-5bdc-4898-a2ec-0e2b2ea68804",
        "executionInfo": {
          "status": "ok",
          "timestamp": 1528687518015,
          "user_tz": 420,
          "elapsed": 479,
          "user": {
            "displayName": "Aravind Shanmugam",
            "photoUrl": "//lh6.googleusercontent.com/-_XjpUosSEHA/AAAAAAAAAAI/AAAAAAAABA0/uAWQVyYb8sg/s50-c-k-no/photo.jpg",
            "userId": "112465109968057340331"
          }
        }
      },
      "cell_type": "code",
      "source": [
        "\n",
        "train['Disbursed' ].value_counts()"
      ],
      "execution_count": 121,
      "outputs": [
        {
          "output_type": "execute_result",
          "data": {
            "text/plain": [
              "0.0    85747\n",
              "1.0     1273\n",
              "Name: Disbursed, dtype: int64"
            ]
          },
          "metadata": {
            "tags": []
          },
          "execution_count": 121
        }
      ]
    },
    {
      "metadata": {
        "id": "_UrIpQjb4zA3",
        "colab_type": "code",
        "colab": {
          "autoexec": {
            "startup": false,
            "wait_interval": 0
          }
        }
      },
      "cell_type": "code",
      "source": [
        "train.to_csv('train_modified.csv',index=False)\n",
        "test.to_csv('test_modified.csv',index=False)"
      ],
      "execution_count": 0,
      "outputs": []
    },
    {
      "metadata": {
        "id": "gezEtWe4JZSm",
        "colab_type": "code",
        "colab": {
          "autoexec": {
            "startup": false,
            "wait_interval": 0
          }
        }
      },
      "cell_type": "code",
      "source": [
        "def modelfit(alg, dtrain, dtest, predictors, performCV=True, printFeatureImportance=True, cv_folds=5):\n",
        "    #Fit the algorithm on the data\n",
        "    alg.fit(dtrain[predictors], dtrain['Disbursed'])\n",
        "        \n",
        "    #Predict training set:\n",
        "    dtrain_predictions = alg.predict(dtrain[predictors])\n",
        "    dtrain_predprob = alg.predict_proba(dtrain[predictors])[:,1]\n",
        "    \n",
        "    #Perform cross-validation:\n",
        "    if performCV:\n",
        "        cv_score = cross_validation.cross_val_score(alg, dtrain[predictors], dtrain['Disbursed'], cv=cv_folds, scoring='roc_auc')\n",
        "    \n",
        "    #Print model report:\n",
        "    print (\"\\nModel Report\")\n",
        "    print (\"Accuracy : %.4g\" % metrics.accuracy_score(dtrain['Disbursed'].values, dtrain_predictions))\n",
        "    print (\"AUC Score (Train): %f\" % metrics.roc_auc_score(dtrain['Disbursed'], dtrain_predprob))\n",
        "    \n",
        "    if performCV:\n",
        "        print (\"CV Score : Mean - %.7g | Std - %.7g | Min - %.7g | Max - %.7g\" % (np.mean(cv_score),np.std(cv_score),np.min(cv_score),np.max(cv_score)))\n",
        "                \n",
        "    #Print Feature Importance:\n",
        "    if printFeatureImportance:\n",
        "        feat_imp = pd.Series(alg.feature_importances_, predictors).sort_values(ascending=False)\n",
        "        feat_imp.plot(kind='bar', title='Feature Importances')\n",
        "        plt.ylabel('Feature Importance Score')"
      ],
      "execution_count": 0,
      "outputs": []
    },
    {
      "metadata": {
        "id": "hq4suwDvJvPE",
        "colab_type": "code",
        "colab": {
          "autoexec": {
            "startup": false,
            "wait_interval": 0
          },
          "base_uri": "https://localhost:8080/",
          "height": 991
        },
        "outputId": "ffcb6d36-ceef-46bb-a2e6-1a8b4db2416c",
        "executionInfo": {
          "status": "error",
          "timestamp": 1528687529848,
          "user_tz": 420,
          "elapsed": 9232,
          "user": {
            "displayName": "Aravind Shanmugam",
            "photoUrl": "//lh6.googleusercontent.com/-_XjpUosSEHA/AAAAAAAAAAI/AAAAAAAABA0/uAWQVyYb8sg/s50-c-k-no/photo.jpg",
            "userId": "112465109968057340331"
          }
        }
      },
      "cell_type": "code",
      "source": [
        "#Choose all predictors except target & IDcols\n",
        "predictors = [x for x in train.columns if x not in [target, IDcol]]\n",
        "gbm0 = GradientBoostingClassifier(random_state=10)\n",
        "modelfit(gbm0, train, test, predictors)"
      ],
      "execution_count": 123,
      "outputs": [
        {
          "output_type": "error",
          "ename": "KeyboardInterrupt",
          "evalue": "ignored",
          "traceback": [
            "\u001b[0;31m---------------------------------------------------------------------------\u001b[0m",
            "\u001b[0;31mKeyboardInterrupt\u001b[0m                         Traceback (most recent call last)",
            "\u001b[0;32m<ipython-input-123-d326b437ad8c>\u001b[0m in \u001b[0;36m<module>\u001b[0;34m()\u001b[0m\n\u001b[1;32m      1\u001b[0m \u001b[0mpredictors\u001b[0m \u001b[0;34m=\u001b[0m \u001b[0;34m[\u001b[0m\u001b[0mx\u001b[0m \u001b[0;32mfor\u001b[0m \u001b[0mx\u001b[0m \u001b[0;32min\u001b[0m \u001b[0mtrain\u001b[0m\u001b[0;34m.\u001b[0m\u001b[0mcolumns\u001b[0m \u001b[0;32mif\u001b[0m \u001b[0mx\u001b[0m \u001b[0;32mnot\u001b[0m \u001b[0;32min\u001b[0m \u001b[0;34m[\u001b[0m\u001b[0mtarget\u001b[0m\u001b[0;34m,\u001b[0m \u001b[0mIDcol\u001b[0m\u001b[0;34m]\u001b[0m\u001b[0;34m]\u001b[0m\u001b[0;34m\u001b[0m\u001b[0m\n\u001b[1;32m      2\u001b[0m \u001b[0mgbm0\u001b[0m \u001b[0;34m=\u001b[0m \u001b[0mGradientBoostingClassifier\u001b[0m\u001b[0;34m(\u001b[0m\u001b[0mrandom_state\u001b[0m\u001b[0;34m=\u001b[0m\u001b[0;36m10\u001b[0m\u001b[0;34m)\u001b[0m\u001b[0;34m\u001b[0m\u001b[0m\n\u001b[0;32m----> 3\u001b[0;31m \u001b[0mmodelfit\u001b[0m\u001b[0;34m(\u001b[0m\u001b[0mgbm0\u001b[0m\u001b[0;34m,\u001b[0m \u001b[0mtrain\u001b[0m\u001b[0;34m,\u001b[0m \u001b[0mtest\u001b[0m\u001b[0;34m,\u001b[0m \u001b[0mpredictors\u001b[0m\u001b[0;34m)\u001b[0m\u001b[0;34m\u001b[0m\u001b[0m\n\u001b[0m",
            "\u001b[0;32m<ipython-input-122-91456d8d72b8>\u001b[0m in \u001b[0;36mmodelfit\u001b[0;34m(alg, dtrain, dtest, predictors, performCV, printFeatureImportance, cv_folds)\u001b[0m\n\u001b[1;32m      1\u001b[0m \u001b[0;32mdef\u001b[0m \u001b[0mmodelfit\u001b[0m\u001b[0;34m(\u001b[0m\u001b[0malg\u001b[0m\u001b[0;34m,\u001b[0m \u001b[0mdtrain\u001b[0m\u001b[0;34m,\u001b[0m \u001b[0mdtest\u001b[0m\u001b[0;34m,\u001b[0m \u001b[0mpredictors\u001b[0m\u001b[0;34m,\u001b[0m \u001b[0mperformCV\u001b[0m\u001b[0;34m=\u001b[0m\u001b[0;32mTrue\u001b[0m\u001b[0;34m,\u001b[0m \u001b[0mprintFeatureImportance\u001b[0m\u001b[0;34m=\u001b[0m\u001b[0;32mTrue\u001b[0m\u001b[0;34m,\u001b[0m \u001b[0mcv_folds\u001b[0m\u001b[0;34m=\u001b[0m\u001b[0;36m5\u001b[0m\u001b[0;34m)\u001b[0m\u001b[0;34m:\u001b[0m\u001b[0;34m\u001b[0m\u001b[0m\n\u001b[1;32m      2\u001b[0m     \u001b[0;31m#Fit the algorithm on the data\u001b[0m\u001b[0;34m\u001b[0m\u001b[0;34m\u001b[0m\u001b[0m\n\u001b[0;32m----> 3\u001b[0;31m     \u001b[0malg\u001b[0m\u001b[0;34m.\u001b[0m\u001b[0mfit\u001b[0m\u001b[0;34m(\u001b[0m\u001b[0mdtrain\u001b[0m\u001b[0;34m[\u001b[0m\u001b[0mpredictors\u001b[0m\u001b[0;34m]\u001b[0m\u001b[0;34m,\u001b[0m \u001b[0mdtrain\u001b[0m\u001b[0;34m[\u001b[0m\u001b[0;34m'Disbursed'\u001b[0m\u001b[0;34m]\u001b[0m\u001b[0;34m)\u001b[0m\u001b[0;34m\u001b[0m\u001b[0m\n\u001b[0m\u001b[1;32m      4\u001b[0m \u001b[0;34m\u001b[0m\u001b[0m\n\u001b[1;32m      5\u001b[0m     \u001b[0;31m#Predict training set:\u001b[0m\u001b[0;34m\u001b[0m\u001b[0;34m\u001b[0m\u001b[0m\n",
            "\u001b[0;32m/usr/local/lib/python3.6/dist-packages/sklearn/ensemble/gradient_boosting.py\u001b[0m in \u001b[0;36mfit\u001b[0;34m(self, X, y, sample_weight, monitor)\u001b[0m\n\u001b[1;32m   1032\u001b[0m         \u001b[0;31m# fit the boosting stages\u001b[0m\u001b[0;34m\u001b[0m\u001b[0;34m\u001b[0m\u001b[0m\n\u001b[1;32m   1033\u001b[0m         n_stages = self._fit_stages(X, y, y_pred, sample_weight, random_state,\n\u001b[0;32m-> 1034\u001b[0;31m                                     begin_at_stage, monitor, X_idx_sorted)\n\u001b[0m\u001b[1;32m   1035\u001b[0m         \u001b[0;31m# change shape of arrays after fit (early-stopping or additional ests)\u001b[0m\u001b[0;34m\u001b[0m\u001b[0;34m\u001b[0m\u001b[0m\n\u001b[1;32m   1036\u001b[0m         \u001b[0;32mif\u001b[0m \u001b[0mn_stages\u001b[0m \u001b[0;34m!=\u001b[0m \u001b[0mself\u001b[0m\u001b[0;34m.\u001b[0m\u001b[0mestimators_\u001b[0m\u001b[0;34m.\u001b[0m\u001b[0mshape\u001b[0m\u001b[0;34m[\u001b[0m\u001b[0;36m0\u001b[0m\u001b[0;34m]\u001b[0m\u001b[0;34m:\u001b[0m\u001b[0;34m\u001b[0m\u001b[0m\n",
            "\u001b[0;32m/usr/local/lib/python3.6/dist-packages/sklearn/ensemble/gradient_boosting.py\u001b[0m in \u001b[0;36m_fit_stages\u001b[0;34m(self, X, y, y_pred, sample_weight, random_state, begin_at_stage, monitor, X_idx_sorted)\u001b[0m\n\u001b[1;32m   1087\u001b[0m             y_pred = self._fit_stage(i, X, y, y_pred, sample_weight,\n\u001b[1;32m   1088\u001b[0m                                      \u001b[0msample_mask\u001b[0m\u001b[0;34m,\u001b[0m \u001b[0mrandom_state\u001b[0m\u001b[0;34m,\u001b[0m \u001b[0mX_idx_sorted\u001b[0m\u001b[0;34m,\u001b[0m\u001b[0;34m\u001b[0m\u001b[0m\n\u001b[0;32m-> 1089\u001b[0;31m                                      X_csc, X_csr)\n\u001b[0m\u001b[1;32m   1090\u001b[0m \u001b[0;34m\u001b[0m\u001b[0m\n\u001b[1;32m   1091\u001b[0m             \u001b[0;31m# track deviance (= loss)\u001b[0m\u001b[0;34m\u001b[0m\u001b[0;34m\u001b[0m\u001b[0m\n",
            "\u001b[0;32m/usr/local/lib/python3.6/dist-packages/sklearn/ensemble/gradient_boosting.py\u001b[0m in \u001b[0;36m_fit_stage\u001b[0;34m(self, i, X, y, y_pred, sample_weight, sample_mask, random_state, X_idx_sorted, X_csc, X_csr)\u001b[0m\n\u001b[1;32m    786\u001b[0m             \u001b[0;32melse\u001b[0m\u001b[0;34m:\u001b[0m\u001b[0;34m\u001b[0m\u001b[0m\n\u001b[1;32m    787\u001b[0m                 tree.fit(X, residual, sample_weight=sample_weight,\n\u001b[0;32m--> 788\u001b[0;31m                          check_input=False, X_idx_sorted=X_idx_sorted)\n\u001b[0m\u001b[1;32m    789\u001b[0m \u001b[0;34m\u001b[0m\u001b[0m\n\u001b[1;32m    790\u001b[0m             \u001b[0;31m# update tree leaves\u001b[0m\u001b[0;34m\u001b[0m\u001b[0;34m\u001b[0m\u001b[0m\n",
            "\u001b[0;32m/usr/local/lib/python3.6/dist-packages/sklearn/tree/tree.py\u001b[0m in \u001b[0;36mfit\u001b[0;34m(self, X, y, sample_weight, check_input, X_idx_sorted)\u001b[0m\n\u001b[1;32m   1122\u001b[0m             \u001b[0msample_weight\u001b[0m\u001b[0;34m=\u001b[0m\u001b[0msample_weight\u001b[0m\u001b[0;34m,\u001b[0m\u001b[0;34m\u001b[0m\u001b[0m\n\u001b[1;32m   1123\u001b[0m             \u001b[0mcheck_input\u001b[0m\u001b[0;34m=\u001b[0m\u001b[0mcheck_input\u001b[0m\u001b[0;34m,\u001b[0m\u001b[0;34m\u001b[0m\u001b[0m\n\u001b[0;32m-> 1124\u001b[0;31m             X_idx_sorted=X_idx_sorted)\n\u001b[0m\u001b[1;32m   1125\u001b[0m         \u001b[0;32mreturn\u001b[0m \u001b[0mself\u001b[0m\u001b[0;34m\u001b[0m\u001b[0m\n\u001b[1;32m   1126\u001b[0m \u001b[0;34m\u001b[0m\u001b[0m\n",
            "\u001b[0;32m/usr/local/lib/python3.6/dist-packages/sklearn/tree/tree.py\u001b[0m in \u001b[0;36mfit\u001b[0;34m(self, X, y, sample_weight, check_input, X_idx_sorted)\u001b[0m\n\u001b[1;32m    360\u001b[0m                                            min_impurity_split)\n\u001b[1;32m    361\u001b[0m \u001b[0;34m\u001b[0m\u001b[0m\n\u001b[0;32m--> 362\u001b[0;31m         \u001b[0mbuilder\u001b[0m\u001b[0;34m.\u001b[0m\u001b[0mbuild\u001b[0m\u001b[0;34m(\u001b[0m\u001b[0mself\u001b[0m\u001b[0;34m.\u001b[0m\u001b[0mtree_\u001b[0m\u001b[0;34m,\u001b[0m \u001b[0mX\u001b[0m\u001b[0;34m,\u001b[0m \u001b[0my\u001b[0m\u001b[0;34m,\u001b[0m \u001b[0msample_weight\u001b[0m\u001b[0;34m,\u001b[0m \u001b[0mX_idx_sorted\u001b[0m\u001b[0;34m)\u001b[0m\u001b[0;34m\u001b[0m\u001b[0m\n\u001b[0m\u001b[1;32m    363\u001b[0m \u001b[0;34m\u001b[0m\u001b[0m\n\u001b[1;32m    364\u001b[0m         \u001b[0;32mif\u001b[0m \u001b[0mself\u001b[0m\u001b[0;34m.\u001b[0m\u001b[0mn_outputs_\u001b[0m \u001b[0;34m==\u001b[0m \u001b[0;36m1\u001b[0m\u001b[0;34m:\u001b[0m\u001b[0;34m\u001b[0m\u001b[0m\n",
            "\u001b[0;31mKeyboardInterrupt\u001b[0m: "
          ]
        }
      ]
    },
    {
      "metadata": {
        "id": "hBUDqYiuKA80",
        "colab_type": "code",
        "colab": {
          "autoexec": {
            "startup": false,
            "wait_interval": 0
          },
          "base_uri": "https://localhost:8080/",
          "height": 235
        },
        "outputId": "6bd0f2b4-63e5-4c0d-bc95-6dca634c3bb0",
        "executionInfo": {
          "status": "ok",
          "timestamp": 1528680587568,
          "user_tz": 420,
          "elapsed": 178629,
          "user": {
            "displayName": "Aravind Shanmugam",
            "photoUrl": "//lh6.googleusercontent.com/-_XjpUosSEHA/AAAAAAAAAAI/AAAAAAAABA0/uAWQVyYb8sg/s50-c-k-no/photo.jpg",
            "userId": "112465109968057340331"
          }
        }
      },
      "cell_type": "code",
      "source": [
        "#Choose all predictors except target & IDcols\n",
        "predictors = [x for x in train.columns if x not in [target, IDcol]]\n",
        "param_test1 = {'n_estimators':range(20,81,10)}\n",
        "gsearch1 = GridSearchCV(estimator = GradientBoostingClassifier(learning_rate=0.1, min_samples_split=500, min_samples_leaf=50,max_depth=8,max_features='sqrt', subsample=0.8,random_state=10), param_grid = {'n_estimators':np.arange(20,81,10)}, scoring='roc_auc',n_jobs=4,iid=False, cv=5)\n",
        "gsearch1.fit(train[predictors],train[target])"
      ],
      "execution_count": 93,
      "outputs": [
        {
          "output_type": "execute_result",
          "data": {
            "text/plain": [
              "GridSearchCV(cv=5, error_score='raise',\n",
              "       estimator=GradientBoostingClassifier(criterion='friedman_mse', init=None,\n",
              "              learning_rate=0.1, loss='deviance', max_depth=8,\n",
              "              max_features='sqrt', max_leaf_nodes=None,\n",
              "              min_impurity_decrease=0.0, min_impurity_split=None,\n",
              "              min_samples_leaf=50, min_samples_split=500,\n",
              "              min_weight_fraction_leaf=0.0, n_estimators=100,\n",
              "              presort='auto', random_state=10, subsample=0.8, verbose=0,\n",
              "              warm_start=False),\n",
              "       fit_params={}, iid=False, n_jobs=4,\n",
              "       param_grid={'n_estimators': array([20, 30, 40, 50, 60, 70, 80])},\n",
              "       pre_dispatch='2*n_jobs', refit=True, scoring='roc_auc', verbose=0)"
            ]
          },
          "metadata": {
            "tags": []
          },
          "execution_count": 93
        }
      ]
    },
    {
      "metadata": {
        "id": "wr01j6pQTW_i",
        "colab_type": "code",
        "colab": {
          "autoexec": {
            "startup": false,
            "wait_interval": 0
          },
          "base_uri": "https://localhost:8080/",
          "height": 181
        },
        "outputId": "762e94a5-26e3-4f6f-f812-3b0c7a24a321",
        "executionInfo": {
          "status": "ok",
          "timestamp": 1528680588370,
          "user_tz": 420,
          "elapsed": 342,
          "user": {
            "displayName": "Aravind Shanmugam",
            "photoUrl": "//lh6.googleusercontent.com/-_XjpUosSEHA/AAAAAAAAAAI/AAAAAAAABA0/uAWQVyYb8sg/s50-c-k-no/photo.jpg",
            "userId": "112465109968057340331"
          }
        }
      },
      "cell_type": "code",
      "source": [
        "gsearch1.grid_scores_, gsearch1.best_params_, gsearch1.best_score_"
      ],
      "execution_count": 94,
      "outputs": [
        {
          "output_type": "execute_result",
          "data": {
            "text/plain": [
              "([mean: 0.83337, std: 0.00991, params: {'n_estimators': 20},\n",
              "  mean: 0.83697, std: 0.00994, params: {'n_estimators': 30},\n",
              "  mean: 0.83832, std: 0.01050, params: {'n_estimators': 40},\n",
              "  mean: 0.83867, std: 0.01081, params: {'n_estimators': 50},\n",
              "  mean: 0.83939, std: 0.01077, params: {'n_estimators': 60},\n",
              "  mean: 0.83891, std: 0.01044, params: {'n_estimators': 70},\n",
              "  mean: 0.83807, std: 0.01093, params: {'n_estimators': 80}],\n",
              " {'n_estimators': 60},\n",
              " 0.8393875216177697)"
            ]
          },
          "metadata": {
            "tags": []
          },
          "execution_count": 94
        }
      ]
    },
    {
      "metadata": {
        "id": "vpfuJ0UaUp1U",
        "colab_type": "code",
        "colab": {
          "autoexec": {
            "startup": false,
            "wait_interval": 0
          },
          "base_uri": "https://localhost:8080/",
          "height": 255
        },
        "outputId": "c6909bb1-4da3-49a9-d141-cd27a56960f4",
        "executionInfo": {
          "status": "ok",
          "timestamp": 1528681672412,
          "user_tz": 420,
          "elapsed": 1083475,
          "user": {
            "displayName": "Aravind Shanmugam",
            "photoUrl": "//lh6.googleusercontent.com/-_XjpUosSEHA/AAAAAAAAAAI/AAAAAAAABA0/uAWQVyYb8sg/s50-c-k-no/photo.jpg",
            "userId": "112465109968057340331"
          }
        }
      },
      "cell_type": "code",
      "source": [
        "#Grid seach on subsample and max_features\n",
        "param_test2 = {'max_depth':np.arange(5,16,2), 'min_samples_split':np.arange(200,1001,200)}\n",
        "gsearch2 = GridSearchCV(estimator = GradientBoostingClassifier(learning_rate=0.1, n_estimators=60,\n",
        "                                                max_features='sqrt', subsample=0.8, random_state=10), \n",
        "                       param_grid = param_test2, scoring='roc_auc',n_jobs=4,iid=False, cv=5)\n",
        "gsearch2.fit(train[predictors],train[target])"
      ],
      "execution_count": 95,
      "outputs": [
        {
          "output_type": "execute_result",
          "data": {
            "text/plain": [
              "GridSearchCV(cv=5, error_score='raise',\n",
              "       estimator=GradientBoostingClassifier(criterion='friedman_mse', init=None,\n",
              "              learning_rate=0.1, loss='deviance', max_depth=3,\n",
              "              max_features='sqrt', max_leaf_nodes=None,\n",
              "              min_impurity_decrease=0.0, min_impurity_split=None,\n",
              "              min_samples_leaf=1, min_samples_split=2,\n",
              "              min_weight_fraction_leaf=0.0, n_estimators=60,\n",
              "              presort='auto', random_state=10, subsample=0.8, verbose=0,\n",
              "              warm_start=False),\n",
              "       fit_params={}, iid=False, n_jobs=4,\n",
              "       param_grid={'max_depth': array([ 5,  7,  9, 11, 13, 15]), 'min_samples_split': array([ 200,  400,  600,  800, 1000])},\n",
              "       pre_dispatch='2*n_jobs', refit=True, scoring='roc_auc', verbose=0)"
            ]
          },
          "metadata": {
            "tags": []
          },
          "execution_count": 95
        }
      ]
    },
    {
      "metadata": {
        "id": "WFmfNqt1WAer",
        "colab_type": "code",
        "colab": {
          "autoexec": {
            "startup": false,
            "wait_interval": 0
          },
          "base_uri": "https://localhost:8080/",
          "height": 599
        },
        "outputId": "95b9657d-e56f-4d7c-8da5-806758a7aade",
        "executionInfo": {
          "status": "ok",
          "timestamp": 1528681674104,
          "user_tz": 420,
          "elapsed": 387,
          "user": {
            "displayName": "Aravind Shanmugam",
            "photoUrl": "//lh6.googleusercontent.com/-_XjpUosSEHA/AAAAAAAAAAI/AAAAAAAABA0/uAWQVyYb8sg/s50-c-k-no/photo.jpg",
            "userId": "112465109968057340331"
          }
        }
      },
      "cell_type": "code",
      "source": [
        "gsearch2.grid_scores_, gsearch2.best_params_, gsearch2.best_score_"
      ],
      "execution_count": 96,
      "outputs": [
        {
          "output_type": "execute_result",
          "data": {
            "text/plain": [
              "([mean: 0.83297, std: 0.01226, params: {'max_depth': 5, 'min_samples_split': 200},\n",
              "  mean: 0.83251, std: 0.01054, params: {'max_depth': 5, 'min_samples_split': 400},\n",
              "  mean: 0.83386, std: 0.01415, params: {'max_depth': 5, 'min_samples_split': 600},\n",
              "  mean: 0.83379, std: 0.01169, params: {'max_depth': 5, 'min_samples_split': 800},\n",
              "  mean: 0.83339, std: 0.01266, params: {'max_depth': 5, 'min_samples_split': 1000},\n",
              "  mean: 0.83392, std: 0.00758, params: {'max_depth': 7, 'min_samples_split': 200},\n",
              "  mean: 0.83663, std: 0.00991, params: {'max_depth': 7, 'min_samples_split': 400},\n",
              "  mean: 0.83481, std: 0.00826, params: {'max_depth': 7, 'min_samples_split': 600},\n",
              "  mean: 0.83786, std: 0.01067, params: {'max_depth': 7, 'min_samples_split': 800},\n",
              "  mean: 0.83769, std: 0.01060, params: {'max_depth': 7, 'min_samples_split': 1000},\n",
              "  mean: 0.83581, std: 0.01003, params: {'max_depth': 9, 'min_samples_split': 200},\n",
              "  mean: 0.83729, std: 0.00959, params: {'max_depth': 9, 'min_samples_split': 400},\n",
              "  mean: 0.83317, std: 0.00881, params: {'max_depth': 9, 'min_samples_split': 600},\n",
              "  mean: 0.83831, std: 0.00953, params: {'max_depth': 9, 'min_samples_split': 800},\n",
              "  mean: 0.83753, std: 0.01012, params: {'max_depth': 9, 'min_samples_split': 1000},\n",
              "  mean: 0.82978, std: 0.00888, params: {'max_depth': 11, 'min_samples_split': 200},\n",
              "  mean: 0.82951, std: 0.00621, params: {'max_depth': 11, 'min_samples_split': 400},\n",
              "  mean: 0.83305, std: 0.01017, params: {'max_depth': 11, 'min_samples_split': 600},\n",
              "  mean: 0.83192, std: 0.00844, params: {'max_depth': 11, 'min_samples_split': 800},\n",
              "  mean: 0.83566, std: 0.01018, params: {'max_depth': 11, 'min_samples_split': 1000},\n",
              "  mean: 0.82438, std: 0.01078, params: {'max_depth': 13, 'min_samples_split': 200},\n",
              "  mean: 0.83010, std: 0.00862, params: {'max_depth': 13, 'min_samples_split': 400},\n",
              "  mean: 0.83228, std: 0.01020, params: {'max_depth': 13, 'min_samples_split': 600},\n",
              "  mean: 0.83480, std: 0.01193, params: {'max_depth': 13, 'min_samples_split': 800},\n",
              "  mean: 0.83372, std: 0.00844, params: {'max_depth': 13, 'min_samples_split': 1000},\n",
              "  mean: 0.82056, std: 0.00913, params: {'max_depth': 15, 'min_samples_split': 200},\n",
              "  mean: 0.82217, std: 0.00961, params: {'max_depth': 15, 'min_samples_split': 400},\n",
              "  mean: 0.82916, std: 0.00927, params: {'max_depth': 15, 'min_samples_split': 600},\n",
              "  mean: 0.82900, std: 0.01046, params: {'max_depth': 15, 'min_samples_split': 800},\n",
              "  mean: 0.83320, std: 0.01389, params: {'max_depth': 15, 'min_samples_split': 1000}],\n",
              " {'max_depth': 9, 'min_samples_split': 800},\n",
              " 0.8383109442669946)"
            ]
          },
          "metadata": {
            "tags": []
          },
          "execution_count": 96
        }
      ]
    },
    {
      "metadata": {
        "id": "K4mkKpFrX_iN",
        "colab_type": "code",
        "colab": {
          "autoexec": {
            "startup": false,
            "wait_interval": 0
          },
          "base_uri": "https://localhost:8080/",
          "height": 500
        },
        "outputId": "9aadd809-d40f-4035-a5ef-d38e358b432e",
        "executionInfo": {
          "status": "error",
          "timestamp": 1528681675923,
          "user_tz": 420,
          "elapsed": 343,
          "user": {
            "displayName": "Aravind Shanmugam",
            "photoUrl": "//lh6.googleusercontent.com/-_XjpUosSEHA/AAAAAAAAAAI/AAAAAAAABA0/uAWQVyYb8sg/s50-c-k-no/photo.jpg",
            "userId": "112465109968057340331"
          }
        }
      },
      "cell_type": "code",
      "source": [
        "#Grid seach on subsample and max_features\n",
        "param_test3 = {'min_samples_split':np.arange(1000,2100,200), 'min_samples_leaf':np.arange(30,71,10)}\n",
        "gsearch3 = GridSearchCV(estimator = GradientBoostingClassifier(learning_rate=0.1, n_estimators=60,max_depth=9,\n",
        "                                                    max_features='sqrt', subsample=0.8, random_state=10), \n",
        "                       param_grid = param_test3, scoring='roc_auc',n_jobs=4,iid=False, cv=5)\n",
        "gsearch3.fit(train[predictors],train[target])"
      ],
      "execution_count": 97,
      "outputs": [
        {
          "output_type": "error",
          "ename": "ValueError",
          "evalue": "ignored",
          "traceback": [
            "\u001b[0;31m---------------------------------------------------------------------------\u001b[0m",
            "\u001b[0;31mValueError\u001b[0m                                Traceback (most recent call last)",
            "\u001b[0;32m<ipython-input-97-5679f8b2111c>\u001b[0m in \u001b[0;36m<module>\u001b[0;34m()\u001b[0m\n\u001b[1;32m      2\u001b[0m gsearch3 = GridSearchCV(estimator = GradientBoostingClassifier(learning_rate=0.1, n_estimators=60,max_depth=9,\n\u001b[1;32m      3\u001b[0m                                                     max_features='sqrt', subsample=0.8, random_state=10), \n\u001b[0;32m----> 4\u001b[0;31m                        param_grid = param_test3, scoring='roc_auc',n_jobs=4,iid=False, cv=5)\n\u001b[0m\u001b[1;32m      5\u001b[0m \u001b[0mgsearch3\u001b[0m\u001b[0;34m.\u001b[0m\u001b[0mfit\u001b[0m\u001b[0;34m(\u001b[0m\u001b[0mtrain\u001b[0m\u001b[0;34m[\u001b[0m\u001b[0mpredictors\u001b[0m\u001b[0;34m]\u001b[0m\u001b[0;34m,\u001b[0m\u001b[0mtrain\u001b[0m\u001b[0;34m[\u001b[0m\u001b[0mtarget\u001b[0m\u001b[0;34m]\u001b[0m\u001b[0;34m)\u001b[0m\u001b[0;34m\u001b[0m\u001b[0m\n",
            "\u001b[0;32m/usr/local/lib/python3.6/dist-packages/sklearn/grid_search.py\u001b[0m in \u001b[0;36m__init__\u001b[0;34m(self, estimator, param_grid, scoring, fit_params, n_jobs, iid, refit, cv, verbose, pre_dispatch, error_score)\u001b[0m\n\u001b[1;32m    819\u001b[0m             refit, cv, verbose, pre_dispatch, error_score)\n\u001b[1;32m    820\u001b[0m         \u001b[0mself\u001b[0m\u001b[0;34m.\u001b[0m\u001b[0mparam_grid\u001b[0m \u001b[0;34m=\u001b[0m \u001b[0mparam_grid\u001b[0m\u001b[0;34m\u001b[0m\u001b[0m\n\u001b[0;32m--> 821\u001b[0;31m         \u001b[0m_check_param_grid\u001b[0m\u001b[0;34m(\u001b[0m\u001b[0mparam_grid\u001b[0m\u001b[0;34m)\u001b[0m\u001b[0;34m\u001b[0m\u001b[0m\n\u001b[0m\u001b[1;32m    822\u001b[0m \u001b[0;34m\u001b[0m\u001b[0m\n\u001b[1;32m    823\u001b[0m     \u001b[0;32mdef\u001b[0m \u001b[0mfit\u001b[0m\u001b[0;34m(\u001b[0m\u001b[0mself\u001b[0m\u001b[0;34m,\u001b[0m \u001b[0mX\u001b[0m\u001b[0;34m,\u001b[0m \u001b[0my\u001b[0m\u001b[0;34m=\u001b[0m\u001b[0;32mNone\u001b[0m\u001b[0;34m)\u001b[0m\u001b[0;34m:\u001b[0m\u001b[0;34m\u001b[0m\u001b[0m\n",
            "\u001b[0;32m/usr/local/lib/python3.6/dist-packages/sklearn/grid_search.py\u001b[0m in \u001b[0;36m_check_param_grid\u001b[0;34m(param_grid)\u001b[0m\n\u001b[1;32m    349\u001b[0m             \u001b[0;32mif\u001b[0m \u001b[0;32mTrue\u001b[0m \u001b[0;32mnot\u001b[0m \u001b[0;32min\u001b[0m \u001b[0mcheck\u001b[0m\u001b[0;34m:\u001b[0m\u001b[0;34m\u001b[0m\u001b[0m\n\u001b[1;32m    350\u001b[0m                 raise ValueError(\"Parameter values for parameter ({0}) need \"\n\u001b[0;32m--> 351\u001b[0;31m                                  \"to be a sequence.\".format(name))\n\u001b[0m\u001b[1;32m    352\u001b[0m \u001b[0;34m\u001b[0m\u001b[0m\n\u001b[1;32m    353\u001b[0m             \u001b[0;32mif\u001b[0m \u001b[0mlen\u001b[0m\u001b[0;34m(\u001b[0m\u001b[0mv\u001b[0m\u001b[0;34m)\u001b[0m \u001b[0;34m==\u001b[0m \u001b[0;36m0\u001b[0m\u001b[0;34m:\u001b[0m\u001b[0;34m\u001b[0m\u001b[0m\n",
            "\u001b[0;31mValueError\u001b[0m: Parameter values for parameter (min_samples_split) need to be a sequence."
          ]
        }
      ]
    },
    {
      "metadata": {
        "id": "jkEHLDRsYAWl",
        "colab_type": "code",
        "colab": {
          "autoexec": {
            "startup": false,
            "wait_interval": 0
          }
        }
      },
      "cell_type": "code",
      "source": [
        "gsearch3.grid_scores_, gsearch3.best_params_, gsearch3.best_score_"
      ],
      "execution_count": 0,
      "outputs": []
    },
    {
      "metadata": {
        "id": "0uFZmaiUYFto",
        "colab_type": "code",
        "colab": {
          "autoexec": {
            "startup": false,
            "wait_interval": 0
          }
        }
      },
      "cell_type": "code",
      "source": [
        "modelfit(gsearch3.best_estimator_, train, test, predictors)"
      ],
      "execution_count": 0,
      "outputs": []
    },
    {
      "metadata": {
        "id": "2kgNqR89YGmH",
        "colab_type": "code",
        "colab": {
          "autoexec": {
            "startup": false,
            "wait_interval": 0
          }
        }
      },
      "cell_type": "code",
      "source": [
        "#Grid seach on subsample and max_features\n",
        "param_test4 = {'max_features':range(7,20,2)}\n",
        "gsearch4 = GridSearchCV(estimator = GradientBoostingClassifier(learning_rate=0.1, n_estimators=60,max_depth=9, \n",
        "                            min_samples_split=1200, min_samples_leaf=60, subsample=0.8, random_state=10),\n",
        "                       param_grid = param_test4, scoring='roc_auc',n_jobs=4,iid=False, cv=5)\n",
        "gsearch4.fit(train[predictors],train[target])"
      ],
      "execution_count": 0,
      "outputs": []
    },
    {
      "metadata": {
        "id": "2MlxhmYYYJRT",
        "colab_type": "code",
        "colab": {
          "autoexec": {
            "startup": false,
            "wait_interval": 0
          }
        }
      },
      "cell_type": "code",
      "source": [
        "gsearch4.grid_scores_, gsearch4.best_params_, gsearch4.best_score_"
      ],
      "execution_count": 0,
      "outputs": []
    },
    {
      "metadata": {
        "id": "US35L0-NYN85",
        "colab_type": "code",
        "colab": {
          "autoexec": {
            "startup": false,
            "wait_interval": 0
          }
        }
      },
      "cell_type": "code",
      "source": [
        "#Grid seach on subsample and max_features\n",
        "param_test5 = {'subsample':[0.6,0.7,0.75,0.8,0.85,0.9]}\n",
        "gsearch5 = GridSearchCV(estimator = GradientBoostingClassifier(learning_rate=0.1, n_estimators=60,max_depth=9, \n",
        "                            min_samples_split=1200, min_samples_leaf=60, subsample=0.8, random_state=10, max_features=7),\n",
        "                       param_grid = param_test5, scoring='roc_auc',n_jobs=4,iid=False, cv=5)\n",
        "gsearch5.fit(train[predictors],train[target])"
      ],
      "execution_count": 0,
      "outputs": []
    },
    {
      "metadata": {
        "id": "RvH2f5WKYO6N",
        "colab_type": "code",
        "colab": {
          "autoexec": {
            "startup": false,
            "wait_interval": 0
          }
        }
      },
      "cell_type": "code",
      "source": [
        "gsearch5.grid_scores_, gsearch5.best_params_, gsearch5.best_score_"
      ],
      "execution_count": 0,
      "outputs": []
    },
    {
      "metadata": {
        "id": "BWJ4z-gZYT8F",
        "colab_type": "code",
        "colab": {
          "autoexec": {
            "startup": false,
            "wait_interval": 0
          }
        }
      },
      "cell_type": "code",
      "source": [
        "#Choose all predictors except target & IDcols\n",
        "predictors = [x for x in train.columns if x not in [target, IDcol]]\n",
        "gbm_tuned_1 = GradientBoostingClassifier(learning_rate=0.05, n_estimators=120,max_depth=9, min_samples_split=1200, \n",
        "                                         min_samples_leaf=60, subsample=0.85, random_state=10, max_features=7)\n",
        "modelfit(gbm_tuned_1, train, test, predictors)"
      ],
      "execution_count": 0,
      "outputs": []
    },
    {
      "metadata": {
        "id": "rh6mEqJPZUKC",
        "colab_type": "code",
        "colab": {
          "autoexec": {
            "startup": false,
            "wait_interval": 0
          }
        }
      },
      "cell_type": "code",
      "source": [
        "#Choose all predictors except target & IDcols\n",
        "predictors = [x for x in train.columns if x not in [target, IDcol]]\n",
        "gbm_tuned_2 = GradientBoostingClassifier(learning_rate=0.01, n_estimators=600,max_depth=9, min_samples_split=1200, \n",
        "                                         min_samples_leaf=60, subsample=0.85, random_state=10, max_features=7)\n",
        "modelfit(gbm_tuned_2, train, test, predictors)"
      ],
      "execution_count": 0,
      "outputs": []
    },
    {
      "metadata": {
        "id": "4CFmK-hZZXlv",
        "colab_type": "code",
        "colab": {
          "autoexec": {
            "startup": false,
            "wait_interval": 0
          }
        }
      },
      "cell_type": "code",
      "source": [
        "#Choose all predictors except target & IDcols\n",
        "predictors = [x for x in train.columns if x not in [target, IDcol]]\n",
        "gbm_tuned_3 = GradientBoostingClassifier(learning_rate=0.005, n_estimators=1200,max_depth=9, min_samples_split=1200, \n",
        "                                         min_samples_leaf=60, subsample=0.85, random_state=10, max_features=7,\n",
        "                                         warm_start=True)\n",
        "modelfit(gbm_tuned_3, train, test, predictors, performCV=False)"
      ],
      "execution_count": 0,
      "outputs": []
    },
    {
      "metadata": {
        "id": "hAVqzgqbZbSY",
        "colab_type": "code",
        "colab": {
          "autoexec": {
            "startup": false,
            "wait_interval": 0
          }
        }
      },
      "cell_type": "code",
      "source": [
        "#Choose all predictors except target & IDcols\n",
        "predictors = [x for x in train.columns if x not in [target, IDcol]]\n",
        "gbm_tuned_4 = GradientBoostingClassifier(learning_rate=0.005, n_estimators=1500,max_depth=9, min_samples_split=1200, \n",
        "                                         min_samples_leaf=60, subsample=0.85, random_state=10, max_features=7,\n",
        "                                         warm_start=True)\n",
        "modelfit(gbm_tuned_4, train, test, predictors, performCV=False)"
      ],
      "execution_count": 0,
      "outputs": []
    },
    {
      "metadata": {
        "id": "1Vk82wuBewW2",
        "colab_type": "text"
      },
      "cell_type": "markdown",
      "source": [
        "warm start can be also used "
      ]
    }
  ]
}